{
 "cells": [
  {
   "cell_type": "markdown",
   "metadata": {},
   "source": [
    "파이썬과 문자열"
   ]
  },
  {
   "cell_type": "code",
   "execution_count": 25,
   "metadata": {},
   "outputs": [
    {
     "name": "stdout",
     "output_type": "stream",
     "text": [
      "g\n",
      "a\n",
      "gra\n",
      "gra\n",
      "h\n",
      "a\n",
      "a\n",
      "scratch\n",
      "a_scratch\n"
     ]
    }
   ],
   "source": [
    "# 파이썬 문자열은 작은따옴표나 큰따옴표로 감싸서 만든다.\n",
    "word = \"grail\"\n",
    "sent = 'a_scratch'\n",
    "\n",
    "# 인덱스로 문자열 추출하기 => 인덱싱, 슬라이싱\n",
    "# 인덱스        0    1    2    3    4\n",
    "# 문자열        g    r    a    i    l\n",
    "# 음수 인덱스  -5   -4   -3   -2   -1\n",
    "\n",
    "print(word[0])\n",
    "print(sent[0])\n",
    "print(word[0:3])\n",
    "print(word[:3])\n",
    "print(sent[-1])\n",
    "print(sent[-9:-8])\n",
    "print(sent[0:-8])\n",
    "print(sent[2:])\n",
    "print(sent[:])"
   ]
  },
  {
   "cell_type": "markdown",
   "metadata": {},
   "source": [
    "파이썬 문자열 메소드"
   ]
  },
  {
   "cell_type": "code",
   "execution_count": 2,
   "metadata": {},
   "outputs": [
    {
     "name": "stdout",
     "output_type": "stream",
     "text": [
      "Thejoeun it academy\n"
     ]
    }
   ],
   "source": [
    "# capitalize() 메소드는 단어의 첫 문자만 대문자로 변환한다.\n",
    "print(\"thejoeun it academy\".capitalize())"
   ]
  },
  {
   "cell_type": "code",
   "execution_count": 3,
   "metadata": {},
   "outputs": [
    {
     "name": "stdout",
     "output_type": "stream",
     "text": [
      "True\n",
      "False\n"
     ]
    }
   ],
   "source": [
    "# startswith() 메소드는 인수로 지정된 문자열로 문자열이 시작되면 True를 리턴한다.\n",
    "print(\"thejoeun it academy\".startswith(\"the\"))\n",
    "print(\"thejoeun it academy\".startswith(\"The\"))"
   ]
  },
  {
   "cell_type": "code",
   "execution_count": 4,
   "metadata": {},
   "outputs": [
    {
     "name": "stdout",
     "output_type": "stream",
     "text": [
      "True\n",
      "False\n"
     ]
    }
   ],
   "source": [
    "# endswith() 메소드는 인수로 지정된 문자열로 문자열이 끝나면 True를 리턴한다.\n",
    "print(\"thejoeun it academy\".endswith(\"academy\"))\n",
    "print(\"thejoeun it academy\".endswith(\"Academy\"))"
   ]
  },
  {
   "cell_type": "code",
   "execution_count": 5,
   "metadata": {},
   "outputs": [
    {
     "name": "stdout",
     "output_type": "stream",
     "text": [
      "2\n",
      "0\n"
     ]
    }
   ],
   "source": [
    "# count() 메소드는 인수로 지정된 문자열의 출연 횟수를 센다.\n",
    "# count() 메소드 실행 결과가 0보다 크다면 인수로 지정된 문자열이 존재하고 실행 결과가 0이라면 \n",
    "# 인수로 지정된 문자열이 존재하지 않는다.\n",
    "print(\"thejoeun it academy\".count(\"a\"))\n",
    "print(\"thejoeun it academy\".count(\"A\"))"
   ]
  },
  {
   "cell_type": "code",
   "execution_count": 6,
   "metadata": {},
   "outputs": [
    {
     "name": "stdout",
     "output_type": "stream",
     "text": [
      "12\n",
      "-1\n"
     ]
    }
   ],
   "source": [
    "# find() 메소드 실행 결과가 0이상이면 인수로 지정된 문자열이 존재하고 실행 결과가 -1이라면 인수로\n",
    "# 지정된 문자열이 존재하지 않는다.\n",
    "# find() 메소드는 인수로 지정된 문자열이 최초로 등장하는 위치의 index를 리턴한다.\n",
    "print(\"thejoeun it academy\".find(\"a\"))\n",
    "# find() 메소드 인수로 지정된 문자열이 없으면 -1을 리턴한다.\n",
    "print(\"thejoeun it academy\".find(\"A\"))"
   ]
  },
  {
   "cell_type": "code",
   "execution_count": 7,
   "metadata": {},
   "outputs": [
    {
     "name": "stdout",
     "output_type": "stream",
     "text": [
      "12\n",
      "찾으려 하는 문자열이 없습니다.\n"
     ]
    }
   ],
   "source": [
    "# index() 메소드 실행 결과가 0이상이면 인수로 지정된 문자열이 존재하고 메소드를 실행했을 때 에러가\n",
    "# 가 발생되면 인수로 지정된 문자열이 존재하지 않는다.\n",
    "# index() 메소드는 인수로 지정된 문자열이 최초로 등장하는 위치의 index를 리턴한다.\n",
    "print(\"thejoeun it academy\".index(\"a\"))\n",
    "# index() 메소드 인수로 지정된 문자열이 없으면 에러가 발생된다.\n",
    "try:\n",
    "    print(\"thejoeun it academy\".index(\"A\"))\n",
    "except:\n",
    "    print(\"찾으려 하는 문자열이 없습니다.\")"
   ]
  },
  {
   "cell_type": "code",
   "execution_count": 8,
   "metadata": {},
   "outputs": [
    {
     "name": "stdout",
     "output_type": "stream",
     "text": [
      "False\n",
      "False\n",
      "False\n"
     ]
    }
   ],
   "source": [
    "# isalpha() 메소드는 인수로 지정된 모든 문자열이 문자면 True를 리턴하고 공백이나 숫자 특수문자가\n",
    "# 포함된 경우 False를 리턴한다.\n",
    "print(\"thejoeun it academy\".isalpha())\n",
    "# isdecimal() 메소드는 인수로 지정된 모든 문자열이 숫자면 True를 리턴하고 공백이나 문자 특수문자가\n",
    "# 포함된 경우 False를 리턴한다.\n",
    "print(\"thejoeun it academy\".isdecimal())\n",
    "# isalnum() 메소드는 인수로 지정된 모든 문자열이 숫자 또는 문자면 True를 리턴하고 공백이나 특수\n",
    "# 문자가 포함된 경우 False를 리턴한다.\n",
    "print(\"thejoeun it academy\".isalnum())"
   ]
  },
  {
   "cell_type": "code",
   "execution_count": 9,
   "metadata": {},
   "outputs": [
    {
     "name": "stdout",
     "output_type": "stream",
     "text": [
      "thejoeun it academy\n",
      "THEJOEUN IT ACADEMY\n"
     ]
    }
   ],
   "source": [
    "# lower() 메소드는 모든 문자열을 소문자로 upper() 메소드는 모든 문자열을 대문자로 변환한다.\n",
    "print(\"thejoeun it academy\".lower())\n",
    "print(\"thejoeun it academy\".upper())"
   ]
  },
  {
   "cell_type": "code",
   "execution_count": 10,
   "metadata": {},
   "outputs": [
    {
     "name": "stdout",
     "output_type": "stream",
     "text": [
      "thejoeun computer academy\n",
      "th^^;jo^^;un it acad^^;my\n"
     ]
    }
   ],
   "source": [
    "# replace(oldchar, newchar) 메소드는 모든 oldchar를 newchar로 치환한다.\n",
    "print(\"thejoeun it academy\".replace(\"it\", \"computer\"))\n",
    "print(\"thejoeun it academy\".replace(\"e\", \"^^;\"))"
   ]
  },
  {
   "cell_type": "code",
   "execution_count": 11,
   "metadata": {},
   "outputs": [
    {
     "name": "stdout",
     "output_type": "stream",
     "text": [
      "thejoeun 8\n",
      "thejoeun      13\n",
      "     thejoeun 13\n"
     ]
    }
   ],
   "source": [
    "# strip() 메소드는 문자열 앞, 뒤의 불필요한 모든 공백(\"\\n\", \"\\r\", \"\\t\" 등도 포함된다.)을 제거하고 \n",
    "# lstrip() 메소드는 문자열 앞(왼쪽)의 불필요한 모든 공백을 제거하고 lstrip() 메소드는 문자열 \n",
    "# 문자열 뒤(오른쪽)의 불필요한 모든 공백을 제거한다.\n",
    "print(\"     thejoeun     \".strip(), len(\"     thejoeun     \".strip()))\n",
    "print(\"     thejoeun     \".lstrip(), len(\"     thejoeun     \".lstrip()))\n",
    "print(\"     thejoeun     \".rstrip(), len(\"     thejoeun     \".rstrip()))"
   ]
  },
  {
   "cell_type": "code",
   "execution_count": 12,
   "metadata": {},
   "outputs": [
    {
     "name": "stdout",
     "output_type": "stream",
     "text": [
      "example\n",
      "example\n"
     ]
    }
   ],
   "source": [
    "# strip() 메소드는 무조건 빈 공백을 제거하는 메소드가 아니고 인수로 지정된 문자열이 데이터 문자열\n",
    "# 맨 앞 뒤에 존재할 경우 제거한다. => 인수로 지정되는 문자열의 순서와 제거되는 순서는 상관없다.\n",
    "print(\"www.example.com\".strip(\"w.com\"))\n",
    "print(\"www.example.com\".strip(\"wc.mo\"))"
   ]
  },
  {
   "cell_type": "code",
   "execution_count": 13,
   "metadata": {},
   "outputs": [
    {
     "name": "stdout",
     "output_type": "stream",
     "text": [
      "<class 'list'>\n",
      "['thejoeun', 'it', 'academy']\n"
     ]
    }
   ],
   "source": [
    "# split() 메소드는 인수로 지정된 구분자를 기준으로 문자열을 분리해서 리스트로 리턴한다.\n",
    "print(type(\"thejoeun it academy\".split(\" \")))\n",
    "print(\"thejoeun it academy\".split(\" \"))"
   ]
  },
  {
   "cell_type": "code",
   "execution_count": 14,
   "metadata": {},
   "outputs": [
    {
     "name": "stdout",
     "output_type": "stream",
     "text": [
      "t/h/e/j/o/e/u/n\n",
      "t^^;h^^;e^^;j^^;o^^;e^^;u^^;n\n",
      "2020 7 14\n"
     ]
    }
   ],
   "source": [
    "# join() 메소드는 인수로 지정된 문자열 사이사이에 join() 메소드가 실행되는 문자열을 삽입한다.\n",
    "print(\"/\".join(\"thejoeun\"))\n",
    "print(\"^^;\".join(\"thejoeun\"))\n",
    "year = \"2020\"; month = \"7\"; day = \"14\"\n",
    "print(\" \".join([year, month, day]))"
   ]
  },
  {
   "cell_type": "code",
   "execution_count": 15,
   "metadata": {},
   "outputs": [
    {
     "name": "stdout",
     "output_type": "stream",
     "text": [
      "['thejoeun', 'it', 'academy']\n",
      "thejoeun it academy\n"
     ]
    }
   ],
   "source": [
    "string = \"    thejoeun           it     academy    \"\n",
    "print(string.split())\n",
    "print(\" \".join(string.split()))"
   ]
  },
  {
   "cell_type": "code",
   "execution_count": 16,
   "metadata": {},
   "outputs": [
    {
     "name": "stdout",
     "output_type": "stream",
     "text": [
      "('thejoeun', ' ', 'it academy')\n"
     ]
    }
   ],
   "source": [
    "# partition() 메소드는 split() 메소드와 같은 기능이 실행되지만 구분자도 포함해서 튜플로 리턴한다.\n",
    "print(\"thejoeun it academy\".partition(\" \"))"
   ]
  },
  {
   "cell_type": "code",
   "execution_count": 17,
   "metadata": {},
   "outputs": [
    {
     "name": "stdout",
     "output_type": "stream",
     "text": [
      "  thejoeun  \n",
      "  thejoeun  \n",
      "thejoeun    \n",
      "    thejoeun\n",
      "__thejoeun__\n",
      "thejoeun____\n",
      "____thejoeun\n"
     ]
    }
   ],
   "source": [
    "# center() 메소드는 인수로 지정한 크기만큼 문자열을 늘이고 가운데로 정렬한다.\n",
    "print(\"thejoeun\".center(12))\n",
    "print(\"{0:^12}\".format(\"thejoeun\")) # 가운데 정렬\n",
    "print(\"{0:<12}\".format(\"thejoeun\")) # 왼쪽 정렬\n",
    "print(\"{0:>12}\".format(\"thejoeun\")) # 오른쪽 정렬\n",
    "# 채움 문자\n",
    "print(\"{0:_^12}\".format(\"thejoeun\"))\n",
    "print(\"{0:_<12}\".format(\"thejoeun\"))\n",
    "print(\"{0:_>12}\".format(\"thejoeun\"))"
   ]
  },
  {
   "cell_type": "code",
   "execution_count": 18,
   "metadata": {},
   "outputs": [
    {
     "name": "stdout",
     "output_type": "stream",
     "text": [
      "0000thejoeun\n",
      "00thejoeun00\n",
      "thejoeun0000\n",
      "0000thejoeun\n"
     ]
    }
   ],
   "source": [
    "# zfill() 메소드는 인수로 지정한 크기만큼 문자열을 늘이고 오른쪽으로 정렬한 후 남는 자리에 \"0\"을\n",
    "# 채워서 출력한다.\n",
    "print(\"thejoeun\".zfill(12))\n",
    "print(\"{0:0^12}\".format(\"thejoeun\"))\n",
    "print(\"{0:0<12}\".format(\"thejoeun\"))\n",
    "print(\"{0:0>12}\".format(\"thejoeun\"))"
   ]
  },
  {
   "cell_type": "markdown",
   "metadata": {},
   "source": [
    "문자열 포매팅"
   ]
  },
  {
   "cell_type": "code",
   "execution_count": 19,
   "metadata": {},
   "outputs": [
    {
     "name": "stdout",
     "output_type": "stream",
     "text": [
      "It's just a flesh wound\n",
      "It's just a flesh wound\n",
      "It's just a flesh wound\n"
     ]
    }
   ],
   "source": [
    "# 단어를 삽입할 위치를 {}로 지정하고 format() 메소드에 원하는 단어를 전달하면 {}의 위치에 적절한\n",
    "# 단어를 삽입해서 출력한다.\n",
    "var = \"flesh wound\"\n",
    "s = \"It's just a {}\"\n",
    "print(s.format(var))\n",
    "\n",
    "s = \"It's just a {var}\"\n",
    "print(s.format(var = \"flesh wound\"))\n",
    "\n",
    "print(\"It's just a {}\".format(var))"
   ]
  },
  {
   "cell_type": "markdown",
   "metadata": {},
   "source": [
    "숫자 포매팅"
   ]
  },
  {
   "cell_type": "code",
   "execution_count": 20,
   "metadata": {},
   "outputs": [
    {
     "name": "stdout",
     "output_type": "stream",
     "text": [
      "3.141592265359\n",
      "6,789,000\n",
      "3.14159\n",
      "0.000103108\n",
      "0.010311%\n",
      "12,345.4567989\n"
     ]
    }
   ],
   "source": [
    "print(\"{}\".format(3.141592265359))\n",
    "# {}에 \":,\"를 넣어주면 천 단위마다 \",\"을 넣어 숫자를 출력할 수 있다.\n",
    "print(\"{:,}\".format(6789000))\n",
    "# {}에 \":.자리수\"를 넣어주면 실수를 출력할 때 출력할 숫자의 개수를 지정할 수 있다.\n",
    "print(\"{:.6}\".format(3.141592265359))\n",
    "print(\"{:.6}\".format(7 / 67890))\n",
    "# {}에 \":.자리수%\"를 넣어주면 지정된 숫자의 개수만큼 백분율로 환산해서 출력한다.\n",
    "print(\"{:.6%}\".format(7 / 67890))\n",
    "print(\"{:10,}\".format(12345.4567989))"
   ]
  },
  {
   "cell_type": "markdown",
   "metadata": {},
   "source": [
    "% 연산자 포매팅"
   ]
  },
  {
   "cell_type": "code",
   "execution_count": 21,
   "metadata": {},
   "outputs": [
    {
     "name": "stdout",
     "output_type": "stream",
     "text": [
      "6789000\n",
      "3.141592\n",
      "3.14\n",
      "6789000 3.14\n"
     ]
    }
   ],
   "source": [
    "print(\"%d\" % 6789000)\n",
    "print(\"%f\" % 3.141592265359)\n",
    "print(\"%.2f\" % 3.141592265359)\n",
    "# % 연산자 포매팅으로 출력시 출력할 데이터가 2개 이상이라면 ()로 묶어 튜플 형태로 사용한다.\n",
    "print(\"%d %.2f\" % (6789000, 3.141592265359))"
   ]
  },
  {
   "cell_type": "markdown",
   "metadata": {},
   "source": [
    "정규식으로 문자열 처리하기"
   ]
  },
  {
   "cell_type": "code",
   "execution_count": 22,
   "metadata": {},
   "outputs": [],
   "source": [
    "# 기본 정규식 문법\n",
    "# . => .a => 문자(a) 앞에 문자 1개가 있는 패턴을 찾는다.\n",
    "# ^ => ^I like => 문자열의 처음부터 일치하는 패턴을 찾는다. 시작하는\n",
    "# $ => on$ => 문자열의 끝 부분부터 일치하는 패턴을 찾는다. 끝나는\n",
    "# * => n\\d* => n 이후 숫자(\\d)가 0개 이상인 패턴을 찾는다.\n",
    "# + => n\\d+ => n 이후 숫자(\\d)가 1개 이상인 패턴을 찾는다.\n",
    "# ? => apple? => ? 앞의 문자(e)가 있거나 없는 패턴을 찾는다.\n",
    "# {m} => n\\d{2} => n 이후 숫자(\\d)가 2개({2})인 패턴을 찾는다.\n",
    "# {m, n} => n\\d{2, 4} => n 이후 숫자(\\d)가 2개({2}) 이상 4개({4}) 이하인 패턴을 찾는다.\n",
    "# \\ => \\*, \\?, \\+ => *, ?, +와 같은 특수 문자를 검색할 때 이스케이프 문자(\\)를 사용한다.\n",
    "# [] => [cfh]all => c, f, h 중 1개를 포함하고 나머지 문자열이 all인 패턴을 찾는다.\n",
    "# | => apple | application => apple이나 application 중 하나만 있는 패턴을 찾는다.\n",
    "# () => (\\d+)-(\\d+)-(\\d+) => ()에 지정한 패턴을 찾을 때 사용한다.\n",
    "\n",
    "# 정규식 특수문자\n",
    "# \\d => 숫자 1개, [0-9]와 동일\n",
    "# \\D => 숫자 이외의 문자 1개[^0-9]와 동일\n",
    "# \\s => 공백이나 탭 1개\n",
    "# \\S => 공백 문자 이외의 문자 1개\n",
    "# \\w => 알파벳 1개\n",
    "# \\W => 알파벳 이외의 문자 1개"
   ]
  },
  {
   "cell_type": "code",
   "execution_count": 23,
   "metadata": {},
   "outputs": [],
   "source": [
    "# re 모듈과 테스트 문자열을 준비한다.\n",
    "import re\n",
    "tele_num = \"123456789\""
   ]
  },
  {
   "cell_type": "code",
   "execution_count": 24,
   "metadata": {},
   "outputs": [
    {
     "name": "stdout",
     "output_type": "stream",
     "text": [
      "<class 'NoneType'>\n",
      "None\n",
      "<_sre.SRE_Match object; span=(0, 9), match='123456789'>\n"
     ]
    }
   ],
   "source": [
    "# match() 메소드를 사용해서 길이가 10인 숫자를 확인한다.\n",
    "# pattern 속성에 숫자를 의미하는 \\d를 사용하고 string 속성에 테스트 문자열을 전달한다.\n",
    "m = re.match(pattern = \"\\d\\d\\d\\d\\d\\d\\d\\d\\d\\d\", string = tele_num)\n",
    "# pattern에 매칭되는 문자열을 찾으면 Match 객체를 반환한다.\n",
    "print(type(m))\n",
    "# Match 객체를 출력하면 span에는 찾은 패턴의 인덱스가 match에는 찾는 패턴의 문자열이 출력되는 것을\n",
    "# 알 수 있다.\n",
    "print(m)\n",
    "m = re.match(pattern = \"\\d{0,10}\", string = tele_num)\n",
    "print(m)"
   ]
  }
 ],
 "metadata": {
  "kernelspec": {
   "display_name": "Python 3",
   "language": "python",
   "name": "python3"
  },
  "language_info": {
   "codemirror_mode": {
    "name": "ipython",
    "version": 3
   },
   "file_extension": ".py",
   "mimetype": "text/x-python",
   "name": "python",
   "nbconvert_exporter": "python",
   "pygments_lexer": "ipython3",
   "version": "3.6.8"
  }
 },
 "nbformat": 4,
 "nbformat_minor": 4
}
