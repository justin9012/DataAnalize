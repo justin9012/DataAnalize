{
 "cells": [
  {
   "cell_type": "markdown",
   "metadata": {},
   "source": [
    "헤더정보 때문에 웹사이트의 정보를 읽어오지 못할 경우 아래에 접속하여  \n",
    "https://developers.whatismybrowser.com/useragents/explore/layout_engine_name/trident/  \n",
    "\"Mozilla/5.0 (compatible, MSIE 11, Windows NT 6.3; Trident/7.0; rv:11.0) like Gecko\"를 헤더로 넣어줌"
   ]
  },
  {
   "cell_type": "code",
   "execution_count": 1,
   "metadata": {
    "scrolled": true
   },
   "outputs": [
    {
     "name": "stdout",
     "output_type": "stream",
     "text": [
      "<class 'dict'>\n"
     ]
    },
    {
     "data": {
      "text/plain": [
       "{'01': '서울',\n",
       " '08': '경기',\n",
       " '02': '광주',\n",
       " '03': '대구',\n",
       " '04': '대전',\n",
       " '05': '부산',\n",
       " '06': '울산',\n",
       " '07': '인천',\n",
       " '09': '강원',\n",
       " '10': '경남',\n",
       " '11': '경북',\n",
       " '12': '전남',\n",
       " '13': '전북',\n",
       " '14': '충남',\n",
       " '15': '충북',\n",
       " '16': '제주',\n",
       " '17': '세종'}"
      ]
     },
     "execution_count": 1,
     "metadata": {},
     "output_type": "execute_result"
    }
   ],
   "source": [
    "# 크롤링에 필요한 requests를 설치하고 import \n",
    "# pip install requests # requests 설치\n",
    "import requests\n",
    "import time\n",
    "\n",
    "url = \"https://www.starbucks.co.kr/store/getSidoList.do\" # 타겟 사이트\n",
    "\n",
    "# json() 메소드로 읽어온 json 타입의 문자열을 딕셔너리로 변환\n",
    "request = requests.post(url)\n",
    "# print(request) # Responce 200 → 성공 / 4xx → 실패\n",
    "\n",
    "dosi_list = request.json()\n",
    "\n",
    "# print(dosi_list) # 딕셔너리로 구성\n",
    "# 딕셔너리에서 key를 입력하여 원하는 데이터를 꺼내온다\n",
    "# print(dosi_list[\"list\"])\n",
    "print(type(dosi_list[\"list\"][0]))\n",
    "\n",
    "# 시도 코드의 개수만큼 반복하며 시도 코드와 시도 이름을 출력한다.\n",
    "# for dosi in dosi_list[\"list\"]:\n",
    "    # print(\"%s : %s\" % (dosi[\"sido_cd\"], dosi[\"sido_nm\"]))\n",
    "    \n",
    "# 시도 코드의 개수만큼 반복하며 시도 코드와 시도 이름을 딕셔너리에 저장\n",
    "dosiList = {} # 시도 코드와 시도 이름을 저장할 빈 딕셔너리를 만든다.\n",
    "\n",
    "# 입력형식 → 딕셔너리이름[\"key\"] = value\n",
    "for dosi in dosi_list[\"list\"]:\n",
    "    dosiList[dosi[\"sido_cd\"]] = dosi[\"sido_nm\"]\n",
    "\n",
    "dosiList"
   ]
  },
  {
   "cell_type": "markdown",
   "metadata": {},
   "source": [
    "개발자 모드의 Network → Header의 아래 From Data항목을 보면 속해있는 data를 지정해 줘야 가져올 수 있음"
   ]
  },
  {
   "cell_type": "code",
   "execution_count": 2,
   "metadata": {
    "scrolled": true
   },
   "outputs": [
    {
     "name": "stdout",
     "output_type": "stream",
     "text": [
      "구군 코드를 확인할 시도 코드를 입력하세요 : 01\n"
     ]
    },
    {
     "data": {
      "text/plain": [
       "{'0101': '강남구',\n",
       " '0120': '강동구',\n",
       " '0102': '강북구',\n",
       " '0103': '강서구',\n",
       " '0104': '관악구',\n",
       " '0105': '광진구',\n",
       " '0121': '구로구',\n",
       " '0106': '금천구',\n",
       " '0107': '노원구',\n",
       " '0108': '도봉구',\n",
       " '0122': '동대문구',\n",
       " '0109': '동작구',\n",
       " '0110': '마포구',\n",
       " '0111': '서대문구',\n",
       " '0112': '서초구',\n",
       " '0123': '성동구',\n",
       " '0113': '성북구',\n",
       " '0114': '송파구',\n",
       " '0115': '양천구',\n",
       " '0116': '영등포구',\n",
       " '0124': '용산구',\n",
       " '0117': '은평구',\n",
       " '0118': '종로구',\n",
       " '0119': '중구',\n",
       " '0125': '중랑구'}"
      ]
     },
     "execution_count": 2,
     "metadata": {},
     "output_type": "execute_result"
    }
   ],
   "source": [
    "dosi = input(\"구군 코드를 확인할 시도 코드를 입력하세요 : \")\n",
    "\n",
    "url = \"https://www.starbucks.co.kr/store/getGugunList.do\"\n",
    "# post 방식으로 요청할 때 넘겨줄 데이터가 있다면 post() 메소드의 2번째 인수로 지정한다.\n",
    "request = requests.post(url, data = {\n",
    "    \"sido_cd\": dosi\n",
    "})\n",
    "\n",
    "# print(request)\n",
    "gugun_list = request.json()\n",
    "# print(gugun_list)\n",
    "# print(type(gugun_list))\n",
    "# print(len(gugun_list)) # 딕셔너리 1개로 묶여 있음을 알 수 있다.\n",
    "\n",
    "# print(type(gugun_list[\"list\"]))\n",
    "# print(gugun_list[\"list\"])\n",
    "# print(len(gugun_list[\"list\"]))\n",
    "\n",
    "# for gugun in gugun_list[\"list\"]:\n",
    "    # print(\"%s : %s\" % (gugun[\"gugun_cd\"], gugun[\"gugun_nm\"]))\n",
    "    \n",
    "# 시도 코드의 개수만큼 반복하며 시도 코드와 시도 이름을 딕셔너리에 저장\n",
    "gugunList = {} # 시도 코드와 시도 이름을 저장할 빈 딕셔너리를 만든다.\n",
    "\n",
    "# 입력형식 → 딕셔너리이름[\"key\"] = value\n",
    "for gugun in gugun_list[\"list\"]:\n",
    "    gugunList[gugun[\"gugun_cd\"]] = gugun[\"gugun_nm\"]\n",
    "\n",
    "gugunList"
   ]
  },
  {
   "cell_type": "markdown",
   "metadata": {},
   "source": [
    "매장 정보 크롤링"
   ]
  },
  {
   "cell_type": "code",
   "execution_count": 3,
   "metadata": {},
   "outputs": [
    {
     "name": "stdout",
     "output_type": "stream",
     "text": [
      "매장 정보를 확인할 구군 코드를 입력하세요 : 01\n"
     ]
    }
   ],
   "source": [
    "gugun = input(\"매장 정보를 확인할 구군 코드를 입력하세요 : \")\n",
    "\n",
    "url = \"https://www.starbucks.co.kr/store/getStore.do?r=72CTM1RD76\" # ?= 뒤의 코드는 임의값으로 생각되며 뜨는거 아무거나 넣어줘도 됨\n",
    "# Store정보의 Headers에서 Form Data의 ins_lat, ins_lng, p_sido_cd, p_gugun_cd, in_biz_cd만 들어가면 된다\n",
    "# Form Data에서 무엇이 필수인지 알 수 없기 때문에 하나씩 넣고 지워보면서 분석해야함\n",
    "request = requests.post(url, data = {\n",
    "    \"p_sido_cd\": \"\",  # 시도코드 / 아무것도 입력하지 않으면 전체 data를 넘기고 그 중 gugun 코드에 해당하는 내용을 꺼내온다.\n",
    "    \"p_gugun_cd\": gugun,  # 구군코드\n",
    "    \"ins_lat\": \"37.56682\",  # 위도\n",
    "    \"ins_lng\": \"126.97865\",  # 경도\n",
    "    \"in_biz_cd\": \"\",\n",
    "    \"set_date\": \"\",\n",
    "    \"iend\": \"1500\"  # 데이터를 가져오는 최대 개수\n",
    "})\n",
    "\n",
    "# print(request)\n",
    "store_list = request.json()\n",
    "# print(store_list)\n",
    "# print(store_list[\"list\"])\n",
    "# print(len(store_list[\"list\"]))\n",
    "# print(store_list[\"list\"][0])\n",
    "\n",
    "storeList = {}\n",
    "count = 0\n",
    "for store in store_list[\"list\"]:\n",
    "    count += 1\n",
    "    print(\"%4d. %s : %s(%s, %s), %s\" % (count, store[\"s_name\"], store[\"doro_address\"], store[\"lat\"], store[\"lot\"], store[\"open_dt\"]))"
   ]
  },
  {
   "cell_type": "code",
   "execution_count": null,
   "metadata": {},
   "outputs": [],
   "source": []
  }
 ],
 "metadata": {
  "kernelspec": {
   "display_name": "Python 3",
   "language": "python",
   "name": "python3"
  },
  "language_info": {
   "codemirror_mode": {
    "name": "ipython",
    "version": 3
   },
   "file_extension": ".py",
   "mimetype": "text/x-python",
   "name": "python",
   "nbconvert_exporter": "python",
   "pygments_lexer": "ipython3",
   "version": "3.6.8"
  }
 },
 "nbformat": 4,
 "nbformat_minor": 4
}
